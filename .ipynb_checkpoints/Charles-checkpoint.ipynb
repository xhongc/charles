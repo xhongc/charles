{
 "cells": [
  {
   "cell_type": "code",
   "execution_count": 1,
   "metadata": {},
   "outputs": [],
   "source": [
    "#递归,下降二叉树\n",
    "def perm(lis,begin,end):\n",
    "    #print \"调用perm函数\"\n",
    "    if begin>=end:\n",
    "        print(lis)\n",
    "    else:\n",
    "        i = begin \n",
    "        for num in range(begin,end):\n",
    "            lis[num],lis[i] = lis[i],lis[num] #固定当前位置,在进行下一位的排列\n",
    "            print(\"-----num:%d,begin:%d\"%(num,begin))\n",
    "            perm(lis,begin+1,end)\n",
    "            print(\"*****num:%d,begin:%d\"%(num,begin))\n",
    "            #调用结束之后还需要回溯将交换位置的元素还原,以供其他下降路径使用(二叉树)\n",
    "            lis[num],lis[i] = lis[i],lis[num]"
   ]
  },
  {
   "cell_type": "code",
   "execution_count": 2,
   "metadata": {},
   "outputs": [
    {
     "name": "stdout",
     "output_type": "stream",
     "text": [
      "-----num:0,begin:0\n",
      "-----num:1,begin:1\n",
      "-----num:2,begin:2\n",
      "[1, 2, 3]\n",
      "*****num:2,begin:2\n",
      "*****num:1,begin:1\n",
      "-----num:2,begin:1\n",
      "-----num:2,begin:2\n",
      "[1, 3, 2]\n",
      "*****num:2,begin:2\n",
      "*****num:2,begin:1\n",
      "*****num:0,begin:0\n",
      "-----num:1,begin:0\n",
      "-----num:1,begin:1\n",
      "-----num:2,begin:2\n",
      "[2, 1, 3]\n",
      "*****num:2,begin:2\n",
      "*****num:1,begin:1\n",
      "-----num:2,begin:1\n",
      "-----num:2,begin:2\n",
      "[2, 3, 1]\n",
      "*****num:2,begin:2\n",
      "*****num:2,begin:1\n",
      "*****num:1,begin:0\n",
      "-----num:2,begin:0\n",
      "-----num:1,begin:1\n",
      "-----num:2,begin:2\n",
      "[3, 2, 1]\n",
      "*****num:2,begin:2\n",
      "*****num:1,begin:1\n",
      "-----num:2,begin:1\n",
      "-----num:2,begin:2\n",
      "[3, 1, 2]\n",
      "*****num:2,begin:2\n",
      "*****num:2,begin:1\n",
      "*****num:2,begin:0\n"
     ]
    }
   ],
   "source": [
    "lis = [1,2,3]\n",
    "perm(lis,0,len(lis))"
   ]
  },
  {
   "cell_type": "code",
   "execution_count": 3,
   "metadata": {},
   "outputs": [],
   "source": [
    "from django.utils.functional import SimpleLazyObject\n"
   ]
  },
  {
   "cell_type": "code",
   "execution_count": 4,
   "metadata": {},
   "outputs": [],
   "source": [
    "class A():\n",
    "    def __init__(self):\n",
    "        print('aaa')\n",
    "        self.name = 'x'\n",
    "    def __str__(self):\n",
    "        return 'x'\n",
    "\n",
    "class S():\n",
    "    def __init__(self):\n",
    "        self.a = SimpleLazyObject(lambda :A())"
   ]
  },
  {
   "cell_type": "code",
   "execution_count": 5,
   "metadata": {},
   "outputs": [],
   "source": [
    "s=S()"
   ]
  },
  {
   "cell_type": "code",
   "execution_count": 8,
   "metadata": {},
   "outputs": [
    {
     "data": {
      "text/plain": [
       "<__main__.S at 0x7fc7b8c95550>"
      ]
     },
     "execution_count": 8,
     "metadata": {},
     "output_type": "execute_result"
    }
   ],
   "source": [
    "s"
   ]
  },
  {
   "cell_type": "code",
   "execution_count": 10,
   "metadata": {},
   "outputs": [
    {
     "data": {
      "text/plain": [
       "'x'"
      ]
     },
     "execution_count": 10,
     "metadata": {},
     "output_type": "execute_result"
    }
   ],
   "source": [
    "s.a.name"
   ]
  },
  {
   "cell_type": "code",
   "execution_count": 11,
   "metadata": {},
   "outputs": [
    {
     "ename": "AttributeError",
     "evalue": "'str' object has no attribute 'pop'",
     "output_type": "error",
     "traceback": [
      "\u001b[0;31m---------------------------------------------------------------------------\u001b[0m",
      "\u001b[0;31mAttributeError\u001b[0m                            Traceback (most recent call last)",
      "\u001b[0;32m<ipython-input-11-3261dbe019fd>\u001b[0m in \u001b[0;36m<module>\u001b[0;34m\u001b[0m\n\u001b[0;32m----> 1\u001b[0;31m \u001b[0;34m'abc'\u001b[0m\u001b[0;34m.\u001b[0m\u001b[0mpop\u001b[0m\u001b[0;34m(\u001b[0m\u001b[0;34m'a'\u001b[0m\u001b[0;34m)\u001b[0m\u001b[0;34m\u001b[0m\u001b[0;34m\u001b[0m\u001b[0m\n\u001b[0m",
      "\u001b[0;31mAttributeError\u001b[0m: 'str' object has no attribute 'pop'"
     ]
    }
   ],
   "source": [
    "'abc'.pop('a')"
   ]
  },
  {
   "cell_type": "code",
   "execution_count": 12,
   "metadata": {},
   "outputs": [],
   "source": [
    "a = 'abc'"
   ]
  },
  {
   "cell_type": "code",
   "execution_count": 13,
   "metadata": {},
   "outputs": [
    {
     "data": {
      "text/plain": [
       "'bc'"
      ]
     },
     "execution_count": 13,
     "metadata": {},
     "output_type": "execute_result"
    }
   ],
   "source": [
    "a.replace(a[0],'')"
   ]
  },
  {
   "cell_type": "code",
   "execution_count": 97,
   "metadata": {},
   "outputs": [],
   "source": [
    "s = \"aguokepatgbnvfqmgmlcupuufxoohdfpgjdmysgvhmvffcnqxjjxqncffvmhvgsymdjgpfdhooxfuupuculmgmqfvnbgtapekouga\""
   ]
  },
  {
   "cell_type": "code",
   "execution_count": 98,
   "metadata": {},
   "outputs": [],
   "source": [
    "class Solution:\n",
    "    def validPalindrome(self, s: str) -> bool:\n",
    "        def check(start,end):\n",
    "            if s[start] != s[end]:\n",
    "                return False\n",
    "            else:\n",
    "                return True\n",
    "        start,end = 0, len(s)-1\n",
    "        count = 0\n",
    "        while start < end:\n",
    "            print('>>>',start,end)\n",
    "            print(s[start],s[end])\n",
    "            if s[start] != s[end]:\n",
    "                if count >0:\n",
    "                    return False\n",
    "                count +=1\n",
    "                print(check(start+1,end))\n",
    "                print(check(start, end-1))\n",
    "                is_equal = False\n",
    "                if check(start+1,end):\n",
    "                    start = start+1\n",
    "                    is_equal = True\n",
    "                elif check(start, end-1):\n",
    "                    end = end-1\n",
    "                    is_equal = True\n",
    "                if not is_equal:\n",
    "                    return False\n",
    "            else:\n",
    "                start +=1\n",
    "                end -=1    \n",
    "        return True"
   ]
  },
  {
   "cell_type": "code",
   "execution_count": 99,
   "metadata": {},
   "outputs": [
    {
     "name": "stdout",
     "output_type": "stream",
     "text": [
      "1- 0 100\n",
      "a a\n",
      "1- 1 99\n",
      "g g\n",
      "1- 2 98\n",
      "u u\n",
      "1- 3 97\n",
      "o o\n",
      "1- 4 96\n",
      "k k\n",
      "1- 5 95\n",
      "e e\n",
      "1- 6 94\n",
      "p p\n",
      "1- 7 93\n",
      "a a\n",
      "1- 8 92\n",
      "t t\n",
      "1- 9 91\n",
      "g g\n",
      "1- 10 90\n",
      "b b\n",
      "1- 11 89\n",
      "n n\n",
      "1- 12 88\n",
      "v v\n",
      "1- 13 87\n",
      "f f\n",
      "1- 14 86\n",
      "q q\n",
      "1- 15 85\n",
      "m m\n",
      "1- 16 84\n",
      "g g\n",
      "1- 17 83\n",
      "m m\n",
      "1- 18 82\n",
      "l l\n",
      "1- 19 81\n",
      "c u\n",
      "True\n",
      "True\n",
      "1- 20 81\n",
      "u u\n",
      "1- 21 80\n",
      "p c\n"
     ]
    },
    {
     "data": {
      "text/plain": [
       "False"
      ]
     },
     "execution_count": 99,
     "metadata": {},
     "output_type": "execute_result"
    }
   ],
   "source": [
    "Solution().validPalindrome(s)"
   ]
  },
  {
   "cell_type": "code",
   "execution_count": 30,
   "metadata": {},
   "outputs": [
    {
     "ename": "TypeError",
     "evalue": "unsupported operand type(s) for -: 'str' and 'str'",
     "output_type": "error",
     "traceback": [
      "\u001b[0;31m---------------------------------------------------------------------------\u001b[0m",
      "\u001b[0;31mTypeError\u001b[0m                                 Traceback (most recent call last)",
      "\u001b[0;32m<ipython-input-30-40f79ecce2e1>\u001b[0m in \u001b[0;36m<module>\u001b[0;34m\u001b[0m\n\u001b[0;32m----> 1\u001b[0;31m \u001b[0ms\u001b[0m \u001b[0;34m-\u001b[0m\u001b[0ms\u001b[0m\u001b[0;34m[\u001b[0m\u001b[0;34m:\u001b[0m\u001b[0;34m:\u001b[0m\u001b[0;34m-\u001b[0m\u001b[0;36m1\u001b[0m\u001b[0;34m]\u001b[0m\u001b[0;34m\u001b[0m\u001b[0;34m\u001b[0m\u001b[0m\n\u001b[0m",
      "\u001b[0;31mTypeError\u001b[0m: unsupported operand type(s) for -: 'str' and 'str'"
     ]
    }
   ],
   "source": [
    "s -s[::-1]"
   ]
  },
  {
   "cell_type": "code",
   "execution_count": 31,
   "metadata": {},
   "outputs": [
    {
     "ename": "TypeError",
     "evalue": "unsupported operand type(s) for -: 'list' and 'list'",
     "output_type": "error",
     "traceback": [
      "\u001b[0;31m---------------------------------------------------------------------------\u001b[0m",
      "\u001b[0;31mTypeError\u001b[0m                                 Traceback (most recent call last)",
      "\u001b[0;32m<ipython-input-31-d9dcea1ab64f>\u001b[0m in \u001b[0;36m<module>\u001b[0;34m\u001b[0m\n\u001b[0;32m----> 1\u001b[0;31m \u001b[0mlist\u001b[0m\u001b[0;34m(\u001b[0m\u001b[0ms\u001b[0m\u001b[0;34m)\u001b[0m \u001b[0;34m-\u001b[0m\u001b[0mlist\u001b[0m\u001b[0;34m(\u001b[0m\u001b[0ms\u001b[0m\u001b[0;34m)\u001b[0m\u001b[0;34m[\u001b[0m\u001b[0;34m:\u001b[0m\u001b[0;34m:\u001b[0m\u001b[0;34m-\u001b[0m\u001b[0;36m1\u001b[0m\u001b[0;34m]\u001b[0m\u001b[0;34m\u001b[0m\u001b[0;34m\u001b[0m\u001b[0m\n\u001b[0m",
      "\u001b[0;31mTypeError\u001b[0m: unsupported operand type(s) for -: 'list' and 'list'"
     ]
    }
   ],
   "source": [
    "list(s) -list(s)[::-1]"
   ]
  },
  {
   "cell_type": "code",
   "execution_count": 32,
   "metadata": {},
   "outputs": [
    {
     "data": {
      "text/plain": [
       "2.5"
      ]
     },
     "execution_count": 32,
     "metadata": {},
     "output_type": "execute_result"
    }
   ],
   "source": [
    "5//2+1\n"
   ]
  },
  {
   "cell_type": "code",
   "execution_count": 100,
   "metadata": {},
   "outputs": [],
   "source": [
    "a = 'abcdefg'"
   ]
  },
  {
   "cell_type": "code",
   "execution_count": 102,
   "metadata": {},
   "outputs": [
    {
     "data": {
      "text/plain": [
       "'ab'"
      ]
     },
     "execution_count": 102,
     "metadata": {},
     "output_type": "execute_result"
    }
   ],
   "source": [
    "a[:2]"
   ]
  },
  {
   "cell_type": "code",
   "execution_count": 103,
   "metadata": {},
   "outputs": [
    {
     "data": {
      "text/plain": [
       "'g'"
      ]
     },
     "execution_count": 103,
     "metadata": {},
     "output_type": "execute_result"
    }
   ],
   "source": [
    "max(list(a))"
   ]
  },
  {
   "cell_type": "code",
   "execution_count": 156,
   "metadata": {},
   "outputs": [],
   "source": [
    "A=\"abab\"\n",
    "B=\"abab\""
   ]
  },
  {
   "cell_type": "code",
   "execution_count": 165,
   "metadata": {},
   "outputs": [],
   "source": [
    "def fib(n):\n",
    "    if n <= 1:\n",
    "        return n\n",
    "    return fib(n-1) + fib(n-2)\n",
    "    "
   ]
  },
  {
   "cell_type": "code",
   "execution_count": 167,
   "metadata": {},
   "outputs": [
    {
     "data": {
      "text/plain": [
       "55"
      ]
     },
     "execution_count": 167,
     "metadata": {},
     "output_type": "execute_result"
    }
   ],
   "source": [
    "fib(10)"
   ]
  },
  {
   "cell_type": "code",
   "execution_count": 129,
   "metadata": {},
   "outputs": [],
   "source": [
    "class A(object):\n",
    "    pass"
   ]
  },
  {
   "cell_type": "code",
   "execution_count": 130,
   "metadata": {},
   "outputs": [],
   "source": [
    "A.get_test = lambda :print('hello')"
   ]
  },
  {
   "cell_type": "code",
   "execution_count": 131,
   "metadata": {},
   "outputs": [
    {
     "name": "stdout",
     "output_type": "stream",
     "text": [
      "hello\n"
     ]
    }
   ],
   "source": [
    "A.get_test\n",
    "A.get_test()"
   ]
  },
  {
   "cell_type": "code",
   "execution_count": 132,
   "metadata": {},
   "outputs": [],
   "source": [
    "a = A()"
   ]
  },
  {
   "cell_type": "code",
   "execution_count": 135,
   "metadata": {},
   "outputs": [],
   "source": [
    "a.get_test = lambda :print('world')"
   ]
  },
  {
   "cell_type": "code",
   "execution_count": 136,
   "metadata": {},
   "outputs": [
    {
     "name": "stdout",
     "output_type": "stream",
     "text": [
      "world\n"
     ]
    }
   ],
   "source": [
    "a.get_test()"
   ]
  },
  {
   "cell_type": "code",
   "execution_count": 168,
   "metadata": {},
   "outputs": [],
   "source": [
    "class Solution:\n",
    "    def reverse(self, x: int) -> int:\n",
    "        int_str = str(x)\n",
    "        if x< -2**31 or x>2**31:\n",
    "            return 0\n",
    "        elif int_str[0] == '-':\n",
    "            return -int(int_str[1:][::-1])\n",
    "        return int(int_str[::-1])"
   ]
  },
  {
   "cell_type": "code",
   "execution_count": 170,
   "metadata": {},
   "outputs": [
    {
     "data": {
      "text/plain": [
       "9646324351"
      ]
     },
     "execution_count": 170,
     "metadata": {},
     "output_type": "execute_result"
    }
   ],
   "source": [
    "Solution().reverse(1534236469)"
   ]
  },
  {
   "cell_type": "code",
   "execution_count": 197,
   "metadata": {},
   "outputs": [],
   "source": [
    "class Solution:\n",
    "    def isValid(self, s: str) -> bool:\n",
    "        s_new = s.replace('()','').replace('[]','').replace('{}','')\n",
    "        while len(s_new) < len(s):\n",
    "            s = s_new\n",
    "            s_new = s.replace('()','').replace('[]','').replace('{}','')\n",
    "            \n",
    "        return not s_new"
   ]
  },
  {
   "cell_type": "code",
   "execution_count": 198,
   "metadata": {},
   "outputs": [
    {
     "data": {
      "text/plain": [
       "True"
      ]
     },
     "execution_count": 198,
     "metadata": {},
     "output_type": "execute_result"
    }
   ],
   "source": [
    "Solution().isValid('')"
   ]
  },
  {
   "cell_type": "code",
   "execution_count": 249,
   "metadata": {},
   "outputs": [],
   "source": [
    "class Solution:\n",
    "    def maxSlidingWindow(self, nums, k: int):\n",
    "        stack = nums[:k]\n",
    "        ret = []\n",
    "        for i in range(k,len(nums)):\n",
    "            print(stack)\n",
    "            ret.append(max(stack))\n",
    "            stack.pop(0)\n",
    "            print(stack)\n",
    "            stack.append(nums[i])\n",
    "        return ret"
   ]
  },
  {
   "cell_type": "code",
   "execution_count": 250,
   "metadata": {},
   "outputs": [
    {
     "name": "stdout",
     "output_type": "stream",
     "text": [
      "[1, 3, -1]\n",
      "[3, -1]\n",
      "[3, -1, -3]\n",
      "[-1, -3]\n",
      "[-1, -3, 5]\n",
      "[-3, 5]\n",
      "[-3, 5, 3]\n",
      "[5, 3]\n",
      "[5, 3, 6]\n",
      "[3, 6]\n"
     ]
    },
    {
     "data": {
      "text/plain": [
       "[3, 3, 5, 5, 6]"
      ]
     },
     "execution_count": 250,
     "metadata": {},
     "output_type": "execute_result"
    }
   ],
   "source": [
    "Solution().maxSlidingWindow([1,3,-1,-3,5,3,6,7],3)"
   ]
  },
  {
   "cell_type": "code",
   "execution_count": 252,
   "metadata": {},
   "outputs": [],
   "source": [
    "l =[1,3,-1,-3,5,3,6,7]"
   ]
  },
  {
   "cell_type": "code",
   "execution_count": null,
   "metadata": {},
   "outputs": [],
   "source": []
  }
 ],
 "metadata": {
  "kernelspec": {
   "display_name": "Python 3",
   "language": "python",
   "name": "python3"
  },
  "language_info": {
   "codemirror_mode": {
    "name": "ipython",
    "version": 3
   },
   "file_extension": ".py",
   "mimetype": "text/x-python",
   "name": "python",
   "nbconvert_exporter": "python",
   "pygments_lexer": "ipython3",
   "version": "3.7.6"
  }
 },
 "nbformat": 4,
 "nbformat_minor": 4
}
